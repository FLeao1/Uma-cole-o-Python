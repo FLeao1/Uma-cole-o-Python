{
 "cells": [
  {
   "cell_type": "markdown",
   "metadata": {},
   "source": [
    "# How to loop over a dictionatry\n",
    "by Jeremy Grifski of The Renegade Coder for the [How to Write a Loop](https://therenegadecoder.com/code/how-to-loop-over-a-dictionary-in-python/) article"
   ]
  },
  {
   "cell_type": "markdown",
   "metadata": {},
   "source": [
    "# Solutions"
   ]
  },
  {
   "cell_type": "markdown",
   "metadata": {},
   "source": [
    "Here, we'll look at all the solutions from the original article."
   ]
  },
  {
   "cell_type": "code",
   "execution_count": 4,
   "metadata": {},
   "outputs": [
    {
     "name": "stdout",
     "output_type": "stream",
     "text": [
      "Crosby\n",
      "Malkin\n",
      "Letang\n"
     ]
    }
   ],
   "source": [
    "# Iterating Over Dictionary Keys\n",
    "players = {\n",
    "  \"Crosby\": 87,\n",
    "  \"Malkin\": 71,\n",
    "  \"Letang\": 58\n",
    "}\n",
    "for player in players:\n",
    "  print(player)"
   ]
  },
  {
   "cell_type": "code",
   "execution_count": 6,
   "metadata": {},
   "outputs": [
    {
     "name": "stdout",
     "output_type": "stream",
     "text": [
      "87\n",
      "71\n",
      "58\n"
     ]
    }
   ],
   "source": [
    "# Iterating Over Dictionary Values\n",
    "players = {\n",
    "  \"Crosby\": 87,\n",
    "  \"Malkin\": 71,\n",
    "  \"Letang\": 58\n",
    "}\n",
    "for number in players.values():\n",
    "  print(number)"
   ]
  },
  {
   "cell_type": "code",
   "execution_count": 7,
   "metadata": {},
   "outputs": [
    {
     "name": "stdout",
     "output_type": "stream",
     "text": [
      "Crosby's number is 87\n",
      "Malkin's number is 71\n",
      "Letang's number is 58\n"
     ]
    }
   ],
   "source": [
    "# Iterating Over Dictionary Keys and Values\n",
    "players = {\n",
    "  \"Crosby\": 87,\n",
    "  \"Malkin\": 71,\n",
    "  \"Letang\": 58\n",
    "}\n",
    "for player, number in players.items():\n",
    "  print(f'{player}\\'s number is {number}')"
   ]
  },
  {
   "cell_type": "markdown",
   "metadata": {},
   "source": [
    "# Performence"
   ]
  },
  {
   "cell_type": "code",
   "execution_count": 9,
   "metadata": {},
   "outputs": [],
   "source": [
    "setup = \"\"\"\n",
    "players = {\n",
    "  \"Crosby\": 87,\n",
    "  \"Malkin\": 71,\n",
    "  \"Letang\": 58\n",
    "}\n",
    "\"\"\"\n",
    "keys_solution = \"\"\"\n",
    "for player in players:\n",
    "  player_info = f\\\"{player}'s number is {players[player]}\\\"\n",
    "\"\"\"\n",
    "values_solution = \"\"\"\n",
    "for number in players.values():\n",
    "  player = next(player for player in players.keys() if players[player] == number)\n",
    "  player_info = f\\\"{player}'s number is {players[player]}\\\"\n",
    "\"\"\"\n",
    "items_solution = \"\"\"\n",
    "for player, number in players.items():\n",
    "  player_info = f\\\"{player}'s number is {number}\\\"\n",
    "\"\"\""
   ]
  },
  {
   "cell_type": "code",
   "execution_count": 10,
   "metadata": {},
   "outputs": [],
   "source": [
    "import timeit"
   ]
  },
  {
   "cell_type": "code",
   "execution_count": 12,
   "metadata": {},
   "outputs": [
    {
     "data": {
      "text/plain": [
       "0.8126096000000871"
      ]
     },
     "execution_count": 12,
     "metadata": {},
     "output_type": "execute_result"
    }
   ],
   "source": [
    "min(timeit.repeat(setup=setup, stmt=keys_solution))"
   ]
  },
  {
   "cell_type": "code",
   "execution_count": 13,
   "metadata": {},
   "outputs": [
    {
     "data": {
      "text/plain": [
       "3.7083783000000494"
      ]
     },
     "execution_count": 13,
     "metadata": {},
     "output_type": "execute_result"
    }
   ],
   "source": [
    "min(timeit.repeat(setup=setup, stmt=values_solution))"
   ]
  },
  {
   "cell_type": "code",
   "execution_count": 15,
   "metadata": {},
   "outputs": [
    {
     "data": {
      "text/plain": [
       "0.9543531000000485"
      ]
     },
     "execution_count": 15,
     "metadata": {},
     "output_type": "execute_result"
    }
   ],
   "source": [
    "min(timeit.repeat(setup=setup, stmt=items_solution))"
   ]
  },
  {
   "cell_type": "markdown",
   "metadata": {},
   "source": [
    "# For bigger datasets"
   ]
  },
  {
   "cell_type": "code",
   "execution_count": 17,
   "metadata": {},
   "outputs": [],
   "source": [
    "setup = \"\"\"\n",
    "players = {\n",
    "  \"Crosby\": 87,\n",
    "  \"Malkin\": 71,\n",
    "  \"Letang\": 58,\n",
    "  \"Guentzel\": 59,\n",
    "  \"Aston-Reese\": 46,\n",
    "  \"Blueger\": 53,\n",
    "  \"Johnson\": 3,\n",
    "  \"Jarry\": 35,\n",
    "  \"Murray\": 30,\n",
    "  \"Marino\": 6,\n",
    "  \"Rust\": 17,\n",
    "  \"Sheary\": 43,\n",
    "  \"Zucker\": 16\n",
    "}\n",
    "\"\"\""
   ]
  },
  {
   "cell_type": "code",
   "execution_count": 18,
   "metadata": {},
   "outputs": [
    {
     "data": {
      "text/plain": [
       "3.7529777999999396"
      ]
     },
     "execution_count": 18,
     "metadata": {},
     "output_type": "execute_result"
    }
   ],
   "source": [
    "min(timeit.repeat(setup=setup, stmt=keys_solution))"
   ]
  },
  {
   "cell_type": "code",
   "execution_count": 19,
   "metadata": {},
   "outputs": [
    {
     "data": {
      "text/plain": [
       "3.622982699999966"
      ]
     },
     "execution_count": 19,
     "metadata": {},
     "output_type": "execute_result"
    }
   ],
   "source": [
    "min(timeit.repeat(setup=setup, stmt=items_solution))"
   ]
  }
 ],
 "metadata": {
  "kernelspec": {
   "display_name": "Python 3",
   "language": "python",
   "name": "python3"
  },
  "language_info": {
   "codemirror_mode": {
    "name": "ipython",
    "version": 3
   },
   "file_extension": ".py",
   "mimetype": "text/x-python",
   "name": "python",
   "nbconvert_exporter": "python",
   "pygments_lexer": "ipython3",
   "version": "3.7.6"
  }
 },
 "nbformat": 4,
 "nbformat_minor": 4
}
