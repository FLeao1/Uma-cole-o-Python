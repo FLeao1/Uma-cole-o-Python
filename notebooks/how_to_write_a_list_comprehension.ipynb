{
  "nbformat": 4,
  "nbformat_minor": 0,
  "metadata": {
    "colab": {
      "name": "how-to-write-a-list-comprehension.ipynb",
      "provenance": [],
      "collapsed_sections": [],
      "authorship_tag": "ABX9TyMdMmxU1FUYirOD1yitjXNQ",
      "include_colab_link": true
    },
    "kernelspec": {
      "name": "python3",
      "display_name": "Python 3"
    }
  },
  "cells": [
    {
      "cell_type": "markdown",
      "metadata": {
        "id": "view-in-github",
        "colab_type": "text"
      },
      "source": [
        "<a href=\"https://colab.research.google.com/github/TheRenegadeCoder/how-to-python-code/blob/master/notebooks/how_to_write_a_list_comprehension.ipynb\" target=\"_parent\"><img src=\"https://colab.research.google.com/assets/colab-badge.svg\" alt=\"Open In Colab\"/></a>"
      ]
    },
    {
      "cell_type": "markdown",
      "metadata": {
        "id": "5S3NDFZcSKE7",
        "colab_type": "text"
      },
      "source": [
        "# How to Write a List Comprehension Source Code\n",
        "by Jeremy Grifski of The Renegade Coder for the [How to Write a List Comprehension](https://therenegadecoder.com/code/how-to-write-a-list-comprehension-in-python/) article"
      ]
    },
    {
      "cell_type": "markdown",
      "metadata": {
        "id": "1GTYzbZ3T-Jp",
        "colab_type": "text"
      },
      "source": [
        "## Input Data"
      ]
    },
    {
      "cell_type": "markdown",
      "metadata": {
        "id": "A52EcW3pUDHU",
        "colab_type": "text"
      },
      "source": [
        "Here, we load in all data we'll be using in the following solutions."
      ]
    },
    {
      "cell_type": "code",
      "metadata": {
        "id": "ywtUWEs9R9zj",
        "colab_type": "code",
        "colab": {}
      },
      "source": [
        "my_list = [2, 5, -4, 6]\n",
        "my_nested_list = [[1, 2], [3, 4]]  "
      ],
      "execution_count": 0,
      "outputs": []
    },
    {
      "cell_type": "markdown",
      "metadata": {
        "id": "8oSzO1BXSzSz",
        "colab_type": "text"
      },
      "source": [
        "## Solutions"
      ]
    },
    {
      "cell_type": "markdown",
      "metadata": {
        "id": "iUXvMBafUIOZ",
        "colab_type": "text"
      },
      "source": [
        "Here, we'll look at all the solutions from the original article."
      ]
    },
    {
      "cell_type": "code",
      "metadata": {
        "id": "6WzZ6u8LTHID",
        "colab_type": "code",
        "colab": {
          "base_uri": "https://localhost:8080/",
          "height": 34
        },
        "outputId": "368e4a4e-f475-4bd5-90a7-6c576802671d"
      },
      "source": [
        "# Duplicate a 1D list of constants\n",
        "[item for item in my_list]"
      ],
      "execution_count": 36,
      "outputs": [
        {
          "output_type": "execute_result",
          "data": {
            "text/plain": [
              "[2, 5, -4, 6]"
            ]
          },
          "metadata": {
            "tags": []
          },
          "execution_count": 36
        }
      ]
    },
    {
      "cell_type": "code",
      "metadata": {
        "id": "6bw9VrSsTRj6",
        "colab_type": "code",
        "colab": {
          "base_uri": "https://localhost:8080/",
          "height": 34
        },
        "outputId": "e674cfde-fe6f-4a50-8531-1e77cd2b2243"
      },
      "source": [
        "# Duplicate and scale a 1D list of constants\n",
        "[2 * item for item in my_list] "
      ],
      "execution_count": 37,
      "outputs": [
        {
          "output_type": "execute_result",
          "data": {
            "text/plain": [
              "[4, 10, -8, 12]"
            ]
          },
          "metadata": {
            "tags": []
          },
          "execution_count": 37
        }
      ]
    },
    {
      "cell_type": "code",
      "metadata": {
        "id": "mHruzjr7TZex",
        "colab_type": "code",
        "colab": {
          "base_uri": "https://localhost:8080/",
          "height": 34
        },
        "outputId": "ac4ccbeb-4db9-4b13-9581-9e76770f6a99"
      },
      "source": [
        "# Duplicate and filter out non-negatives from 1D list of constants\n",
        "[item for item in my_list if item < 0]"
      ],
      "execution_count": 38,
      "outputs": [
        {
          "output_type": "execute_result",
          "data": {
            "text/plain": [
              "[-4]"
            ]
          },
          "metadata": {
            "tags": []
          },
          "execution_count": 38
        }
      ]
    },
    {
      "cell_type": "code",
      "metadata": {
        "id": "G3x4Hw-gTc9x",
        "colab_type": "code",
        "colab": {
          "base_uri": "https://localhost:8080/",
          "height": 34
        },
        "outputId": "55e98066-7efc-4c81-c9fc-67f1f488d505"
      },
      "source": [
        "# Duplicate, filter, and scale a 1D list of constants\n",
        "[2 * item for item in my_list if item < 0] "
      ],
      "execution_count": 39,
      "outputs": [
        {
          "output_type": "execute_result",
          "data": {
            "text/plain": [
              "[-8]"
            ]
          },
          "metadata": {
            "tags": []
          },
          "execution_count": 39
        }
      ]
    },
    {
      "cell_type": "code",
      "metadata": {
        "id": "bbVD7hP8Thj5",
        "colab_type": "code",
        "colab": {
          "base_uri": "https://localhost:8080/",
          "height": 34
        },
        "outputId": "3a5669e4-0fa2-4f69-e1fe-dd1157e96de6"
      },
      "source": [
        "# Generate all possible pairs from two lists\n",
        "[(a, b) for a in (1, 3, 5) for b in (2, 4, 6)] "
      ],
      "execution_count": 40,
      "outputs": [
        {
          "output_type": "execute_result",
          "data": {
            "text/plain": [
              "[(1, 2), (1, 4), (1, 6), (3, 2), (3, 4), (3, 6), (5, 2), (5, 4), (5, 6)]"
            ]
          },
          "metadata": {
            "tags": []
          },
          "execution_count": 40
        }
      ]
    },
    {
      "cell_type": "code",
      "metadata": {
        "id": "VPSWicg4TmxR",
        "colab_type": "code",
        "colab": {
          "base_uri": "https://localhost:8080/",
          "height": 34
        },
        "outputId": "b0e70908-da31-452a-a497-4736babc7f6c"
      },
      "source": [
        "# Generate all possible pairs from two lists and filter some of them\n",
        "[(a, b) for a in (1, 3, 5) for b in (2, 4, 6) if a > b]"
      ],
      "execution_count": 41,
      "outputs": [
        {
          "output_type": "execute_result",
          "data": {
            "text/plain": [
              "[(3, 2), (5, 2), (5, 4)]"
            ]
          },
          "metadata": {
            "tags": []
          },
          "execution_count": 41
        }
      ]
    },
    {
      "cell_type": "code",
      "metadata": {
        "id": "X8OlaM2XUr8i",
        "colab_type": "code",
        "colab": {
          "base_uri": "https://localhost:8080/",
          "height": 34
        },
        "outputId": "3f533ad1-98c8-4fda-9518-33e23a3536c7"
      },
      "source": [
        "# Duplicate a 2D list\n",
        "[[item for item in sub_list] for sub_list in my_nested_list]"
      ],
      "execution_count": 42,
      "outputs": [
        {
          "output_type": "execute_result",
          "data": {
            "text/plain": [
              "[[1, 2], [3, 4]]"
            ]
          },
          "metadata": {
            "tags": []
          },
          "execution_count": 42
        }
      ]
    }
  ]
}
