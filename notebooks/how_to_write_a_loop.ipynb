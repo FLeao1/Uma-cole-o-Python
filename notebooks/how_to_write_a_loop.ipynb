{
 "cells": [
  {
   "cell_type": "markdown",
   "metadata": {
    "colab_type": "text",
    "id": "view-in-github"
   },
   "source": [
    "<a href=\"https://colab.research.google.com/github/TheRenegadeCoder/how-to-python-code/blob/master/notebooks/how_to_write_a_loop.ipynb\" target=\"_parent\"><img src=\"https://colab.research.google.com/assets/colab-badge.svg\" alt=\"Open In Colab\"/></a>"
   ]
  },
  {
   "cell_type": "markdown",
   "metadata": {
    "colab_type": "text",
    "id": "CE6ac5aIsb5K"
   },
   "source": [
    "# How to Write a Loop Source Code\n",
    "by Jeremy Grifski of The Renegade Coder for the [How to Write a Loop](https://therenegadecoder.com/code/how-to-write-a-loop-in-python/) article"
   ]
  },
  {
   "cell_type": "markdown",
   "metadata": {
    "colab_type": "text",
    "id": "yitmP7ONsq6K"
   },
   "source": [
    "## Solutions"
   ]
  },
  {
   "cell_type": "markdown",
   "metadata": {
    "colab_type": "text",
    "id": "DdrKy6u5sxw6"
   },
   "source": [
    "Here, we'll look at all the solutions from the original article."
   ]
  },
  {
   "cell_type": "code",
   "execution_count": 1,
   "metadata": {
    "colab": {
     "base_uri": "https://localhost:8080/",
     "height": 118
    },
    "colab_type": "code",
    "id": "JNcqYrx9sWS5",
    "outputId": "d50c8239-7c0d-4014-fca3-3ebb93b81e02"
   },
   "outputs": [
    {
     "name": "stdout",
     "output_type": "stream",
     "text": [
      "Input is 5\n",
      "Input is 4\n",
      "Input is 3\n",
      "Input is 2\n",
      "Input is 1\n",
      "Input is 0\n"
     ]
    }
   ],
   "source": [
    "# Loop using recursion\n",
    "def recurse(i):\n",
    "    print(f'Input is {i}')\n",
    "    if i > 0:\n",
    "        recurse(i - 1)\n",
    "\n",
    "recurse(5)"
   ]
  },
  {
   "cell_type": "code",
   "execution_count": 2,
   "metadata": {
    "colab": {
     "base_uri": "https://localhost:8080/",
     "height": 118
    },
    "colab_type": "code",
    "id": "mvS-Z2UYtE-T",
    "outputId": "97813741-de37-4e56-e1c7-8d514ae4bfd3"
   },
   "outputs": [
    {
     "name": "stdout",
     "output_type": "stream",
     "text": [
      "Input is 5\n",
      "Input is 4\n",
      "Input is 3\n",
      "Input is 2\n",
      "Input is 1\n",
      "Input is 0\n"
     ]
    }
   ],
   "source": [
    "# Loop using a while loop\n",
    "i = 5\n",
    "while i >= 0:\n",
    "    print(f'Input is {i}')\n",
    "    i -= 1"
   ]
  },
  {
   "cell_type": "code",
   "execution_count": 3,
   "metadata": {
    "colab": {
     "base_uri": "https://localhost:8080/",
     "height": 118
    },
    "colab_type": "code",
    "id": "1B57ydaftMrB",
    "outputId": "423ce10a-0e3b-4552-b2de-d1f704ecce96"
   },
   "outputs": [
    {
     "name": "stdout",
     "output_type": "stream",
     "text": [
      "Input is 5\n",
      "Input is 4\n",
      "Input is 3\n",
      "Input is 2\n",
      "Input is 1\n",
      "Input is 0\n"
     ]
    }
   ],
   "source": [
    "# Loop using a for loop\n",
    "for i in range(5, -1, -1):\n",
    "    print(f'Input is {i}')"
   ]
  },
  {
   "cell_type": "markdown",
   "metadata": {
    "colab_type": "text",
    "id": "ECfsN4ZTtSES"
   },
   "source": [
    "## Performance"
   ]
  },
  {
   "cell_type": "markdown",
   "metadata": {
    "colab_type": "text",
    "id": "NtKAq18ptWwK"
   },
   "source": [
    "Here, we'll look at the performance code from the original article."
   ]
  },
  {
   "cell_type": "code",
   "execution_count": null,
   "metadata": {
    "colab": {},
    "colab_type": "code",
    "id": "IGEB5JsctTzL"
   },
   "outputs": [],
   "source": [
    "# Import performance testing library\n",
    "import timeit\n",
    "\n",
    "# Generate test strings\n",
    "setup = \"\"\"\n",
    "def recurse(i):\n",
    "    # Removed print for sanity\n",
    "    if i > 0:\n",
    "        recurse(i - 1)\n",
    "\"\"\"\n",
    "\n",
    "recursion = \"\"\"\n",
    "recurse(5)\n",
    "\"\"\"\n",
    "\n",
    "while_loop = \"\"\"\n",
    "i = 5\n",
    "while i >= 0:\n",
    "    # Removed print for sanity\n",
    "    i -= 1\n",
    "\"\"\"\n",
    "\n",
    "for_loop = \"\"\"\n",
    "for i in range(5, -1, -1):\n",
    "    pass  # Removed print for sanity\n",
    "\"\"\""
   ]
  },
  {
   "cell_type": "code",
   "execution_count": 27,
   "metadata": {
    "colab": {
     "base_uri": "https://localhost:8080/",
     "height": 34
    },
    "colab_type": "code",
    "id": "c5F_PEXDttQz",
    "outputId": "b4ec76b7-5f5e-429a-da84-9d821453e04e"
   },
   "outputs": [
    {
     "data": {
      "text/plain": [
       "0.7599358280000388"
      ]
     },
     "execution_count": 27,
     "metadata": {
      "tags": []
     },
     "output_type": "execute_result"
    }
   ],
   "source": [
    "min(timeit.repeat(setup=setup, stmt=recursion))"
   ]
  },
  {
   "cell_type": "code",
   "execution_count": 28,
   "metadata": {
    "colab": {
     "base_uri": "https://localhost:8080/",
     "height": 34
    },
    "colab_type": "code",
    "id": "zhNyN7w3twLb",
    "outputId": "c3a9041a-a8fa-4d5d-d57d-69b104621600"
   },
   "outputs": [
    {
     "data": {
      "text/plain": [
       "0.29169029500008037"
      ]
     },
     "execution_count": 28,
     "metadata": {
      "tags": []
     },
     "output_type": "execute_result"
    }
   ],
   "source": [
    "min(timeit.repeat(setup=setup, stmt=while_loop))"
   ]
  },
  {
   "cell_type": "code",
   "execution_count": 29,
   "metadata": {
    "colab": {
     "base_uri": "https://localhost:8080/",
     "height": 34
    },
    "colab_type": "code",
    "id": "juRmv3thtyki",
    "outputId": "116ecebb-73e7-4d6e-e438-0635b93b276d"
   },
   "outputs": [
    {
     "data": {
      "text/plain": [
       "0.325777546999916"
      ]
     },
     "execution_count": 29,
     "metadata": {
      "tags": []
     },
     "output_type": "execute_result"
    }
   ],
   "source": [
    "min(timeit.repeat(setup=setup, stmt=for_loop))"
   ]
  }
 ],
 "metadata": {
  "colab": {
   "authorship_tag": "ABX9TyO6nQIg1BTg3PCbpp8aiCwf",
   "include_colab_link": true,
   "name": "how-to-write-a-loop.ipynb",
   "provenance": []
  },
  "kernelspec": {
   "display_name": "Python 3",
   "language": "python",
   "name": "python3"
  },
  "language_info": {
   "codemirror_mode": {
    "name": "ipython",
    "version": 3
   },
   "file_extension": ".py",
   "mimetype": "text/x-python",
   "name": "python",
   "nbconvert_exporter": "python",
   "pygments_lexer": "ipython3",
   "version": "3.7.6"
  }
 },
 "nbformat": 4,
 "nbformat_minor": 4
}
